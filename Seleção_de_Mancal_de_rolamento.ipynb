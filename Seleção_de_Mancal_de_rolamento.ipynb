{
  "nbformat": 4,
  "nbformat_minor": 0,
  "metadata": {
    "colab": {
      "provenance": [],
      "authorship_tag": "ABX9TyMAow0foX0yUPrXtgbZXhP9",
      "include_colab_link": true
    },
    "kernelspec": {
      "name": "python3",
      "display_name": "Python 3"
    },
    "language_info": {
      "name": "python"
    }
  },
  "cells": [
    {
      "cell_type": "markdown",
      "metadata": {
        "id": "view-in-github",
        "colab_type": "text"
      },
      "source": [
        "<a href=\"https://colab.research.google.com/github/NikolasRR/Sele-o-de-mancal/blob/main/Sele%C3%A7%C3%A3o_de_Mancal_de_rolamento.ipynb\" target=\"_parent\"><img src=\"https://colab.research.google.com/assets/colab-badge.svg\" alt=\"Open In Colab\"/></a>"
      ]
    },
    {
      "cell_type": "code",
      "source": [
        "#TABELA DE PARÂMETROS\n",
        "tabela = [\n",
        "    #[FaC0, e, X, Y]\n",
        "    [0.014, 0.19, 0.56, 2.3],\n",
        "    [0.021, 0.21, 0.56, 2.15],\n",
        "    [0.028, 0.22, 0.56, 1.99],\n",
        "    [0.042, 0.24, 0.56, 1.85],\n",
        "    [0.056, 0.26, 0.56, 1.71],\n",
        "    [0.070, 0.27, 0.56, 1.63],\n",
        "    [0.084, 0.28, 0.56, 1.55],\n",
        "    [0.110, 0.30, 0.56, 1.45],\n",
        "    [0.17, 0.34, 0.56, 1.31],\n",
        "    [0.28, 0.38, 0.56, 1.15],\n",
        "    [0.42, 0.42, 0.56, 1.04],\n",
        "    [0.56, 0.44, 0.56, 1],\n",
        "]\n",
        "\n",
        "def makeDict(array):\n",
        "  return dict(\n",
        "      FaC0 = array[0],\n",
        "      e = array[1],\n",
        "      X = array[2],\n",
        "      Y = array[3]\n",
        "  )\n",
        "\n",
        "tabela = list(map(makeDict, tabela))"
      ],
      "metadata": {
        "id": "If-ycJp6xx4a"
      },
      "execution_count": null,
      "outputs": []
    },
    {
      "cell_type": "code",
      "source": [
        "def interpolar(previousX, previousY, currentY, futureX, futureY):\n",
        "  return round(((((currentY - previousY)/(futureY - previousY))*(futureX - previousX)) + previousX), 2)\n",
        "\n",
        "print(interpolar(1.63, 0.07, 0.082, 1.55, 0.084))"
      ],
      "metadata": {
        "colab": {
          "base_uri": "https://localhost:8080/"
        },
        "id": "VVWLZDbC5wJV",
        "outputId": "1dbcf286-71b5-487e-d3c8-409598714178"
      },
      "execution_count": null,
      "outputs": [
        {
          "output_type": "stream",
          "name": "stdout",
          "text": [
            "1.56\n"
          ]
        }
      ]
    },
    {
      "cell_type": "markdown",
      "source": [
        "Rodar célula abaixo, substituindo os valores"
      ],
      "metadata": {
        "id": "AXyE1wRJdL3-"
      }
    },
    {
      "cell_type": "code",
      "execution_count": null,
      "metadata": {
        "id": "N2QMSCQA1njN",
        "colab": {
          "base_uri": "https://localhost:8080/"
        },
        "outputId": "63528434-4e7c-4ea7-f49e-a225da5552fe"
      },
      "outputs": [
        {
          "output_type": "stream",
          "name": "stdout",
          "text": [
            "Valores carregados\n",
            "Fa/VFr: 0.23\n",
            "valor de C10 inicial em kN: 30.99\n"
          ]
        }
      ],
      "source": [
        "vel = 1350 #rpm\n",
        "vidaEmHoras = 52560\n",
        "a = 1/3 #Para mancal de esfera V = 1, para mancal de rolo V = 1.2\n",
        "Fr = 1912.09/1000 #Deixe o valor em kN\n",
        "Fa = 249/1000 #Deixe o valor em kN\n",
        "V = 1\n",
        "FaVFr = Fa/(V*Fr)\n",
        "\n",
        "def calcularRazaoC10F():\n",
        "  return ((vidaEmHoras*vel*60/(10e5))**a)\n",
        "\n",
        "def calcularC10(F):\n",
        "  return ((F * calcularRazaoC10F()))\n",
        "\n",
        "def calcularFe(x, y):\n",
        "  return x*Fr + y*Fa\n",
        "\n",
        "def obterNovoC10():\n",
        "  print('valor de C10')\n",
        "  C10 = float(input())\n",
        "  return C10\n",
        "\n",
        "def obterNovoC0():\n",
        "  print('valor de C0')\n",
        "  C0 = float(input())\n",
        "  return C0\n",
        "\n",
        "def obterValoresXeY(razaoFaC0):\n",
        "  for index, linha in enumerate(tabela):\n",
        "    if (linha['FaC0'] == razaoFaC0):\n",
        "      return dict(X = linha['X'], Y = linha['Y'])\n",
        "    elif (linha['FaC0'] > razaoFaC0 and index = 0):\n",
        "      raise Exception(\"Valores fora da tabela\")\n",
        "    elif (linha['FaC0'] > razaoFaC0):\n",
        "      e = interpolar(tabela[index - 1]['e'], tabela[index - 1]['FaC0'], razaoFaC0, linha['e'], linha['FaC0'])\n",
        "      if (FaVFr >= e):\n",
        "        return dict(X = 1, Y = 0)\n",
        "      else:\n",
        "        Y = interpolar(tabela[index - 1]['Y'], tabela[index - 1]['FaC0'], razaoFaC0, linha['Y'], linha['FaC0'])\n",
        "        return dict(X = linha['X'], Y = Y)\n",
        "\n",
        "\n",
        "      #se a razão sendo parseada é maior, então vai ser necessário a interpolação\n",
        "      #interpolar valores de Fa/C0 e 'e' para obter o valor de 'e'\n",
        "      #verificar se o valor de Fa/VFr é menor ou igual que 'e'\n",
        "      # se sim:\n",
        "      #   retornar X = 1 e Y = 0\n",
        "      # se não:\n",
        "      #   interpolar valores de Fa/C0 e Y para obter o valor de Y\n",
        "      #   retornar X e Y\n",
        "print(\"Valores carregados\")\n",
        "print(\"Fa/VFr: {:.2f}\".format(Fa/(V*Fr)))\n",
        "print(\"valor de C10 inicial em kN: {:.2f}\".format(calcularC10(Fr)))\n"
      ]
    },
    {
      "cell_type": "code",
      "source": [
        "def loopMancal():\n",
        "  C10 = calcularC10(Fr)\n",
        "  novoC10 = C10\n",
        "  C0 = 0\n",
        "\n",
        "  while (novoC10 >= C10):\n",
        "    print(\"Escolha um mancal que possua C maior que: {:.2f} (valores em kN)\".format(C10))\n",
        "    print(\"Sobre o mancal escolhido, informe \\n\")\n",
        "\n",
        "    C10 = obterNovoC10()\n",
        "    C0 = obterNovoC0()\n",
        "\n",
        "    razaoFaC0 = Fa/C0\n",
        "    tabela\n",
        "    print(\"razao Fa/C0 = {:.3f}\".format(razaoFaC0))\n",
        "    Fe = calcularFe()\n",
        "\n",
        "    novoC10 = calcularC10(Fe)\n",
        "\n",
        "    print(\"valor do novo C10: {:.2f}\".format(novoC10))\n",
        "    print(\"valor do velho C10: {:.2f}\".format(novoC10))\n",
        "\n",
        "\n",
        "  print(\"valor do novo C10: {:.2f}\".format(novoC10))\n",
        "  print(\"rolamento encontrado, valores em kN\", \"C10 = \", C10, \"C0 = \", C0)\n",
        "\n",
        "loopMancal()"
      ],
      "metadata": {
        "colab": {
          "base_uri": "https://localhost:8080/",
          "height": 546
        },
        "id": "jtEVOFLDKYOZ",
        "outputId": "d6ca9d5d-f30f-4880-8d1f-b593e3c09719"
      },
      "execution_count": null,
      "outputs": [
        {
          "output_type": "stream",
          "name": "stdout",
          "text": [
            "Escolha um mancal que possua C maior que: 30.99 (valores em kN)\n",
            "Sobre o mancal escolhido, informe \n",
            "\n",
            "valor de C10\n",
            "31.2\n",
            "valor de C0\n",
            "17.6\n",
            "razao Fa/C0 = 0.025\n",
            "Use o valor da razão Fa/C0 para obter os valores de \n",
            "\n",
            "valor de x\n"
          ]
        },
        {
          "output_type": "error",
          "ename": "KeyboardInterrupt",
          "evalue": "ignored",
          "traceback": [
            "\u001b[0;31m---------------------------------------------------------------------------\u001b[0m",
            "\u001b[0;31mKeyboardInterrupt\u001b[0m                         Traceback (most recent call last)",
            "\u001b[0;32m<ipython-input-14-6fd3b741f159>\u001b[0m in \u001b[0;36m<cell line: 26>\u001b[0;34m()\u001b[0m\n\u001b[1;32m     24\u001b[0m   \u001b[0mprint\u001b[0m\u001b[0;34m(\u001b[0m\u001b[0;34m\"rolamento encontrado, valores em kN\"\u001b[0m\u001b[0;34m,\u001b[0m \u001b[0;34m\"C10 = \"\u001b[0m\u001b[0;34m,\u001b[0m \u001b[0mC10\u001b[0m\u001b[0;34m,\u001b[0m \u001b[0;34m\"C0 = \"\u001b[0m\u001b[0;34m,\u001b[0m \u001b[0mC0\u001b[0m\u001b[0;34m)\u001b[0m\u001b[0;34m\u001b[0m\u001b[0;34m\u001b[0m\u001b[0m\n\u001b[1;32m     25\u001b[0m \u001b[0;34m\u001b[0m\u001b[0m\n\u001b[0;32m---> 26\u001b[0;31m \u001b[0mloopMancal\u001b[0m\u001b[0;34m(\u001b[0m\u001b[0;34m)\u001b[0m\u001b[0;34m\u001b[0m\u001b[0;34m\u001b[0m\u001b[0m\n\u001b[0m",
            "\u001b[0;32m<ipython-input-14-6fd3b741f159>\u001b[0m in \u001b[0;36mloopMancal\u001b[0;34m()\u001b[0m\n\u001b[1;32m     13\u001b[0m     \u001b[0mrazaoFaC0\u001b[0m \u001b[0;34m=\u001b[0m \u001b[0mFa\u001b[0m\u001b[0;34m/\u001b[0m\u001b[0mC0\u001b[0m\u001b[0;34m\u001b[0m\u001b[0;34m\u001b[0m\u001b[0m\n\u001b[1;32m     14\u001b[0m     \u001b[0mprint\u001b[0m\u001b[0;34m(\u001b[0m\u001b[0;34m\"razao Fa/C0 = {:.3f}\"\u001b[0m\u001b[0;34m.\u001b[0m\u001b[0mformat\u001b[0m\u001b[0;34m(\u001b[0m\u001b[0mrazaoFaC0\u001b[0m\u001b[0;34m)\u001b[0m\u001b[0;34m)\u001b[0m\u001b[0;34m\u001b[0m\u001b[0;34m\u001b[0m\u001b[0m\n\u001b[0;32m---> 15\u001b[0;31m     \u001b[0mFe\u001b[0m \u001b[0;34m=\u001b[0m \u001b[0mcalcularFe\u001b[0m\u001b[0;34m(\u001b[0m\u001b[0;34m)\u001b[0m\u001b[0;34m\u001b[0m\u001b[0;34m\u001b[0m\u001b[0m\n\u001b[0m\u001b[1;32m     16\u001b[0m \u001b[0;34m\u001b[0m\u001b[0m\n\u001b[1;32m     17\u001b[0m     \u001b[0mnovoC10\u001b[0m \u001b[0;34m=\u001b[0m \u001b[0mcalcularC10\u001b[0m\u001b[0;34m(\u001b[0m\u001b[0mFe\u001b[0m\u001b[0;34m)\u001b[0m\u001b[0;34m\u001b[0m\u001b[0;34m\u001b[0m\u001b[0m\n",
            "\u001b[0;32m<ipython-input-13-257c919be89c>\u001b[0m in \u001b[0;36mcalcularFe\u001b[0;34m()\u001b[0m\n\u001b[1;32m     15\u001b[0m   \u001b[0mprint\u001b[0m\u001b[0;34m(\u001b[0m\u001b[0;34m\"Use o valor da razão Fa/C0 para obter os valores de \\n\"\u001b[0m\u001b[0;34m)\u001b[0m\u001b[0;34m\u001b[0m\u001b[0;34m\u001b[0m\u001b[0m\n\u001b[1;32m     16\u001b[0m   \u001b[0mprint\u001b[0m\u001b[0;34m(\u001b[0m\u001b[0;34m'valor de x'\u001b[0m\u001b[0;34m)\u001b[0m\u001b[0;34m\u001b[0m\u001b[0;34m\u001b[0m\u001b[0m\n\u001b[0;32m---> 17\u001b[0;31m   \u001b[0mx\u001b[0m \u001b[0;34m=\u001b[0m \u001b[0mfloat\u001b[0m\u001b[0;34m(\u001b[0m\u001b[0minput\u001b[0m\u001b[0;34m(\u001b[0m\u001b[0;34m)\u001b[0m\u001b[0;34m)\u001b[0m\u001b[0;34m\u001b[0m\u001b[0;34m\u001b[0m\u001b[0m\n\u001b[0m\u001b[1;32m     18\u001b[0m   \u001b[0mprint\u001b[0m\u001b[0;34m(\u001b[0m\u001b[0;34m'valor de y'\u001b[0m\u001b[0;34m)\u001b[0m\u001b[0;34m\u001b[0m\u001b[0;34m\u001b[0m\u001b[0m\n\u001b[1;32m     19\u001b[0m   \u001b[0my\u001b[0m \u001b[0;34m=\u001b[0m \u001b[0mfloat\u001b[0m\u001b[0;34m(\u001b[0m\u001b[0minput\u001b[0m\u001b[0;34m(\u001b[0m\u001b[0;34m)\u001b[0m\u001b[0;34m)\u001b[0m\u001b[0;34m\u001b[0m\u001b[0;34m\u001b[0m\u001b[0m\n",
            "\u001b[0;32m/usr/local/lib/python3.10/dist-packages/ipykernel/kernelbase.py\u001b[0m in \u001b[0;36mraw_input\u001b[0;34m(self, prompt)\u001b[0m\n\u001b[1;32m    849\u001b[0m                 \u001b[0;34m\"raw_input was called, but this frontend does not support input requests.\"\u001b[0m\u001b[0;34m\u001b[0m\u001b[0;34m\u001b[0m\u001b[0m\n\u001b[1;32m    850\u001b[0m             )\n\u001b[0;32m--> 851\u001b[0;31m         return self._input_request(str(prompt),\n\u001b[0m\u001b[1;32m    852\u001b[0m             \u001b[0mself\u001b[0m\u001b[0;34m.\u001b[0m\u001b[0m_parent_ident\u001b[0m\u001b[0;34m,\u001b[0m\u001b[0;34m\u001b[0m\u001b[0;34m\u001b[0m\u001b[0m\n\u001b[1;32m    853\u001b[0m             \u001b[0mself\u001b[0m\u001b[0;34m.\u001b[0m\u001b[0m_parent_header\u001b[0m\u001b[0;34m,\u001b[0m\u001b[0;34m\u001b[0m\u001b[0;34m\u001b[0m\u001b[0m\n",
            "\u001b[0;32m/usr/local/lib/python3.10/dist-packages/ipykernel/kernelbase.py\u001b[0m in \u001b[0;36m_input_request\u001b[0;34m(self, prompt, ident, parent, password)\u001b[0m\n\u001b[1;32m    893\u001b[0m             \u001b[0;32mexcept\u001b[0m \u001b[0mKeyboardInterrupt\u001b[0m\u001b[0;34m:\u001b[0m\u001b[0;34m\u001b[0m\u001b[0;34m\u001b[0m\u001b[0m\n\u001b[1;32m    894\u001b[0m                 \u001b[0;31m# re-raise KeyboardInterrupt, to truncate traceback\u001b[0m\u001b[0;34m\u001b[0m\u001b[0;34m\u001b[0m\u001b[0m\n\u001b[0;32m--> 895\u001b[0;31m                 \u001b[0;32mraise\u001b[0m \u001b[0mKeyboardInterrupt\u001b[0m\u001b[0;34m(\u001b[0m\u001b[0;34m\"Interrupted by user\"\u001b[0m\u001b[0;34m)\u001b[0m \u001b[0;32mfrom\u001b[0m \u001b[0;32mNone\u001b[0m\u001b[0;34m\u001b[0m\u001b[0;34m\u001b[0m\u001b[0m\n\u001b[0m\u001b[1;32m    896\u001b[0m             \u001b[0;32mexcept\u001b[0m \u001b[0mException\u001b[0m \u001b[0;32mas\u001b[0m \u001b[0me\u001b[0m\u001b[0;34m:\u001b[0m\u001b[0;34m\u001b[0m\u001b[0;34m\u001b[0m\u001b[0m\n\u001b[1;32m    897\u001b[0m                 \u001b[0mself\u001b[0m\u001b[0;34m.\u001b[0m\u001b[0mlog\u001b[0m\u001b[0;34m.\u001b[0m\u001b[0mwarning\u001b[0m\u001b[0;34m(\u001b[0m\u001b[0;34m\"Invalid Message:\"\u001b[0m\u001b[0;34m,\u001b[0m \u001b[0mexc_info\u001b[0m\u001b[0;34m=\u001b[0m\u001b[0;32mTrue\u001b[0m\u001b[0;34m)\u001b[0m\u001b[0;34m\u001b[0m\u001b[0;34m\u001b[0m\u001b[0m\n",
            "\u001b[0;31mKeyboardInterrupt\u001b[0m: Interrupted by user"
          ]
        }
      ]
    }
  ]
}