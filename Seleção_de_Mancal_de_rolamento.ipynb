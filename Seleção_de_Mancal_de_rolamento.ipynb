{
  "nbformat": 4,
  "nbformat_minor": 0,
  "metadata": {
    "colab": {
      "provenance": [],
      "authorship_tag": "ABX9TyPoykr9JxIdTbXOp8g+h/pE",
      "include_colab_link": true
    },
    "kernelspec": {
      "name": "python3",
      "display_name": "Python 3"
    },
    "language_info": {
      "name": "python"
    }
  },
  "cells": [
    {
      "cell_type": "markdown",
      "metadata": {
        "id": "view-in-github",
        "colab_type": "text"
      },
      "source": [
        "<a href=\"https://colab.research.google.com/github/NikolasRR/selecao-de-mancal/blob/main/Sele%C3%A7%C3%A3o_de_Mancal_de_rolamento.ipynb\" target=\"_parent\"><img src=\"https://colab.research.google.com/assets/colab-badge.svg\" alt=\"Open In Colab\"/></a>"
      ]
    },
    {
      "cell_type": "markdown",
      "source": [
        "**COLOQUE SEUS VALORES NA CÉLULA ABAIXO, EM SEGUIDA EXECUTE-A**"
      ],
      "metadata": {
        "id": "jmLD0bG26vr_"
      }
    },
    {
      "cell_type": "code",
      "source": [
        "vel = 1350 #rpm\n",
        "vidaEmHoras = 52560\n",
        "a = 1/3 #Para mancal de esfera V = 1, para mancal de rolo V = 1.2\n",
        "Fr = 698.8/1000 #Deixe o valor em kN\n",
        "Fa = 199/1000 #Deixe o valor em kN\n",
        "V = 1\n",
        "FaVFr = Fa/(V*Fr)"
      ],
      "metadata": {
        "id": "qDBiVXIl60Xm"
      },
      "execution_count": 30,
      "outputs": []
    },
    {
      "cell_type": "markdown",
      "source": [
        "**EXECUTE A CÉLULA ABAIXO PARA GERAR A TABELA DE VALORES**"
      ],
      "metadata": {
        "id": "UQx7LFmK7U23"
      }
    },
    {
      "cell_type": "code",
      "source": [
        "#TABELA DE PARÂMETROS\n",
        "tabela = [\n",
        "    #[FaC0, e, X, Y]\n",
        "    [0.014, 0.19, 0.56, 2.3],\n",
        "    [0.021, 0.21, 0.56, 2.15],\n",
        "    [0.028, 0.22, 0.56, 1.99],\n",
        "    [0.042, 0.24, 0.56, 1.85],\n",
        "    [0.056, 0.26, 0.56, 1.71],\n",
        "    [0.070, 0.27, 0.56, 1.63],\n",
        "    [0.084, 0.28, 0.56, 1.55],\n",
        "    [0.110, 0.30, 0.56, 1.45],\n",
        "    [0.17, 0.34, 0.56, 1.31],\n",
        "    [0.28, 0.38, 0.56, 1.15],\n",
        "    [0.42, 0.42, 0.56, 1.04],\n",
        "    [0.56, 0.44, 0.56, 1],\n",
        "]\n",
        "\n",
        "def makeDict(array):\n",
        "  return dict(\n",
        "      FaC0 = array[0],\n",
        "      e = array[1],\n",
        "      X = array[2],\n",
        "      Y = array[3]\n",
        "  )\n",
        "\n",
        "tabela = list(map(makeDict, tabela))"
      ],
      "metadata": {
        "id": "If-ycJp6xx4a"
      },
      "execution_count": 31,
      "outputs": []
    },
    {
      "cell_type": "markdown",
      "source": [
        "**EXECUTE A CÉLULA ABAIXO PARA DEFINIR AS FUNÇÕES NECESSÁRIAS**"
      ],
      "metadata": {
        "id": "AXyE1wRJdL3-"
      }
    },
    {
      "cell_type": "code",
      "execution_count": 36,
      "metadata": {
        "id": "N2QMSCQA1njN",
        "colab": {
          "base_uri": "https://localhost:8080/"
        },
        "outputId": "cfa906c9-f600-4653-b09a-28a8dd7156f2"
      },
      "outputs": [
        {
          "output_type": "stream",
          "name": "stdout",
          "text": [
            "Valores carregados\n",
            "Fa/VFr: 0.28\n",
            "valor de C10 inicial em kN: 11.33\n"
          ]
        }
      ],
      "source": [
        "def interpolar(previousX, previousY, currentY, futureX, futureY):\n",
        "  return round(((((currentY - previousY)/(futureY - previousY))*(futureX - previousX)) + previousX), 2)\n",
        "\n",
        "def calcularRazaoC10F():\n",
        "  return ((vidaEmHoras*vel*60/(10e5))**a)\n",
        "\n",
        "def calcularC10(F):\n",
        "  return ((F * calcularRazaoC10F()))\n",
        "\n",
        "def calcularFe(x, y):\n",
        "  return x*Fr + y*Fa\n",
        "\n",
        "def obterNovoC10():\n",
        "  print('valor de C')\n",
        "  C10 = float(input())\n",
        "  return C10\n",
        "\n",
        "def obterNovoC0():\n",
        "  print('valor de C0')\n",
        "  C0 = float(input())\n",
        "  return C0\n",
        "\n",
        "def obterValoresXeY(razaoFaC0):\n",
        "  for index, linha in enumerate(tabela):\n",
        "    if (linha['FaC0'] == razaoFaC0):\n",
        "      return dict(X = linha['X'], Y = linha['Y'])\n",
        "    elif ((linha['FaC0'] > razaoFaC0) and (index == 0)):\n",
        "      if (FaVFr < linha['e']):\n",
        "        return dict(X = 1, Y = 0)\n",
        "      else:\n",
        "        return dict(X = tabela[0]['X'], Y = tabela[0]['Y'])\n",
        "    elif (linha['FaC0'] > razaoFaC0):\n",
        "      e = interpolar(tabela[index - 1]['e'], tabela[index - 1]['FaC0'], razaoFaC0, linha['e'], linha['FaC0'])\n",
        "      if (FaVFr >= e):\n",
        "        return dict(X = 1, Y = 0)\n",
        "      else:\n",
        "        Y = interpolar(tabela[index - 1]['Y'], tabela[index - 1]['FaC0'], razaoFaC0, linha['Y'], linha['FaC0'])\n",
        "        return dict(X = linha['X'], Y = Y)\n",
        "\n",
        "  raise Exception(\"Valores fora da tabela\")\n",
        "\n",
        "def loopMancal():\n",
        "  C10 = calcularC10(Fr)\n",
        "  novoC10 = C10\n",
        "  C0 = 0\n",
        "\n",
        "  while (novoC10 >= C10):\n",
        "    print(\"Escolha um mancal que possua C maior que: {:.2f} kN\\nAgora sobre o mancal selecionado, informe:\".format(C10))\n",
        "\n",
        "    C10 = obterNovoC10()\n",
        "    C0 = obterNovoC0()\n",
        "\n",
        "    razaoFaC0 = Fa/C0\n",
        "    print(\"razao Fa/C0 = {:.3f}\".format(razaoFaC0))\n",
        "    XeY = obterValoresXeY(razaoFaC0)\n",
        "\n",
        "    Fe = calcularFe(XeY['X'], XeY['Y'])\n",
        "\n",
        "    novoC10 = calcularC10(Fe)\n",
        "\n",
        "    print(\"valor do novo C10: {:.2f}\".format(novoC10))\n",
        "    print(\"valor do velho C10: {:.2f}\".format(C10))\n",
        "\n",
        "  print(\"\\nrolamento encontrado, valores em kN\", \"C10 =\", C10, \"e C0 =\", C0)\n",
        "\n",
        "\n",
        "\n",
        "print(\"Valores carregados\")\n",
        "print(\"Fa/VFr: {:.2f}\".format(Fa/(V*Fr)))\n",
        "print(\"valor de C10 inicial em kN: {:.2f}\".format(calcularC10(Fr)))"
      ]
    },
    {
      "cell_type": "markdown",
      "source": [
        "**EXECUTE A CÉLULA ABAIXO PARA COMEÇAR O PROCESSO**"
      ],
      "metadata": {
        "id": "vr6gSOjJ78Kr"
      }
    },
    {
      "cell_type": "code",
      "source": [
        "loopMancal()"
      ],
      "metadata": {
        "colab": {
          "base_uri": "https://localhost:8080/"
        },
        "id": "jtEVOFLDKYOZ",
        "outputId": "b371afa7-adef-458e-965b-c55a4bbf55f4"
      },
      "execution_count": 37,
      "outputs": [
        {
          "output_type": "stream",
          "name": "stdout",
          "text": [
            "Escolha um mancal que possua C maior que: 11.33 kN\n",
            "Agora sobre o mancal selecionado, informe:\n",
            "valor de C\n",
            "11.4\n",
            "valor de C0\n",
            "8.15\n",
            "razao Fa/C0 = 0.024\n",
            "valor do novo C10: 11.33\n",
            "valor do velho C10: 11.40\n",
            "\n",
            "rolamento encontrado, valores em kN C10 = 11.4 e C0 = 8.15\n"
          ]
        }
      ]
    }
  ]
}